{
 "cells": [
  {
   "cell_type": "code",
   "execution_count": 1,
   "metadata": {},
   "outputs": [],
   "source": [
    "import pandas as pd\n",
    "import warnings\n",
    "warnings.simplefilter('ignore')\n",
    "import numpy as np"
   ]
  },
  {
   "cell_type": "code",
   "execution_count": 127,
   "metadata": {},
   "outputs": [],
   "source": [
    "train_identity = pd.read_csv(\"train_identity.csv\")"
   ]
  },
  {
   "cell_type": "code",
   "execution_count": 128,
   "metadata": {},
   "outputs": [],
   "source": [
    "train_transaction = pd.read_csv('train_transaction.csv')"
   ]
  },
  {
   "cell_type": "code",
   "execution_count": 129,
   "metadata": {},
   "outputs": [
    {
     "name": "stdout",
     "output_type": "stream",
     "text": [
      "<class 'pandas.core.frame.DataFrame'>\n",
      "RangeIndex: 590540 entries, 0 to 590539\n",
      "Columns: 394 entries, TransactionID to V339\n",
      "dtypes: float64(376), int64(4), object(14)\n",
      "memory usage: 1.7+ GB\n"
     ]
    }
   ],
   "source": [
    "train_transaction.info()"
   ]
  },
  {
   "cell_type": "code",
   "execution_count": 131,
   "metadata": {},
   "outputs": [
    {
     "data": {
      "text/html": [
       "<div>\n",
       "<style scoped>\n",
       "    .dataframe tbody tr th:only-of-type {\n",
       "        vertical-align: middle;\n",
       "    }\n",
       "\n",
       "    .dataframe tbody tr th {\n",
       "        vertical-align: top;\n",
       "    }\n",
       "\n",
       "    .dataframe thead th {\n",
       "        text-align: right;\n",
       "    }\n",
       "</style>\n",
       "<table border=\"1\" class=\"dataframe\">\n",
       "  <thead>\n",
       "    <tr style=\"text-align: right;\">\n",
       "      <th></th>\n",
       "      <th>isFraud</th>\n",
       "      <th>TransactionID</th>\n",
       "      <th>ProductCD</th>\n",
       "      <th>card1</th>\n",
       "      <th>card2</th>\n",
       "      <th>card3</th>\n",
       "      <th>card4</th>\n",
       "      <th>card5</th>\n",
       "      <th>card6</th>\n",
       "      <th>addr1</th>\n",
       "      <th>...</th>\n",
       "      <th>id_29</th>\n",
       "      <th>id_30</th>\n",
       "      <th>id_31</th>\n",
       "      <th>id_32</th>\n",
       "      <th>id_33</th>\n",
       "      <th>id_34</th>\n",
       "      <th>id_35</th>\n",
       "      <th>id_36</th>\n",
       "      <th>id_37</th>\n",
       "      <th>id_38</th>\n",
       "    </tr>\n",
       "  </thead>\n",
       "  <tbody>\n",
       "    <tr>\n",
       "      <th>0</th>\n",
       "      <td>0</td>\n",
       "      <td>2987000</td>\n",
       "      <td>W</td>\n",
       "      <td>13926</td>\n",
       "      <td>NaN</td>\n",
       "      <td>150.0</td>\n",
       "      <td>discover</td>\n",
       "      <td>142.0</td>\n",
       "      <td>credit</td>\n",
       "      <td>315.0</td>\n",
       "      <td>...</td>\n",
       "      <td>NaN</td>\n",
       "      <td>NaN</td>\n",
       "      <td>NaN</td>\n",
       "      <td>NaN</td>\n",
       "      <td>NaN</td>\n",
       "      <td>NaN</td>\n",
       "      <td>NaN</td>\n",
       "      <td>NaN</td>\n",
       "      <td>NaN</td>\n",
       "      <td>NaN</td>\n",
       "    </tr>\n",
       "    <tr>\n",
       "      <th>1</th>\n",
       "      <td>0</td>\n",
       "      <td>2987001</td>\n",
       "      <td>W</td>\n",
       "      <td>2755</td>\n",
       "      <td>404.0</td>\n",
       "      <td>150.0</td>\n",
       "      <td>mastercard</td>\n",
       "      <td>102.0</td>\n",
       "      <td>credit</td>\n",
       "      <td>325.0</td>\n",
       "      <td>...</td>\n",
       "      <td>NaN</td>\n",
       "      <td>NaN</td>\n",
       "      <td>NaN</td>\n",
       "      <td>NaN</td>\n",
       "      <td>NaN</td>\n",
       "      <td>NaN</td>\n",
       "      <td>NaN</td>\n",
       "      <td>NaN</td>\n",
       "      <td>NaN</td>\n",
       "      <td>NaN</td>\n",
       "    </tr>\n",
       "    <tr>\n",
       "      <th>2</th>\n",
       "      <td>0</td>\n",
       "      <td>2987002</td>\n",
       "      <td>W</td>\n",
       "      <td>4663</td>\n",
       "      <td>490.0</td>\n",
       "      <td>150.0</td>\n",
       "      <td>visa</td>\n",
       "      <td>166.0</td>\n",
       "      <td>debit</td>\n",
       "      <td>330.0</td>\n",
       "      <td>...</td>\n",
       "      <td>NaN</td>\n",
       "      <td>NaN</td>\n",
       "      <td>NaN</td>\n",
       "      <td>NaN</td>\n",
       "      <td>NaN</td>\n",
       "      <td>NaN</td>\n",
       "      <td>NaN</td>\n",
       "      <td>NaN</td>\n",
       "      <td>NaN</td>\n",
       "      <td>NaN</td>\n",
       "    </tr>\n",
       "    <tr>\n",
       "      <th>3</th>\n",
       "      <td>0</td>\n",
       "      <td>2987003</td>\n",
       "      <td>W</td>\n",
       "      <td>18132</td>\n",
       "      <td>567.0</td>\n",
       "      <td>150.0</td>\n",
       "      <td>mastercard</td>\n",
       "      <td>117.0</td>\n",
       "      <td>debit</td>\n",
       "      <td>476.0</td>\n",
       "      <td>...</td>\n",
       "      <td>NaN</td>\n",
       "      <td>NaN</td>\n",
       "      <td>NaN</td>\n",
       "      <td>NaN</td>\n",
       "      <td>NaN</td>\n",
       "      <td>NaN</td>\n",
       "      <td>NaN</td>\n",
       "      <td>NaN</td>\n",
       "      <td>NaN</td>\n",
       "      <td>NaN</td>\n",
       "    </tr>\n",
       "    <tr>\n",
       "      <th>4</th>\n",
       "      <td>0</td>\n",
       "      <td>2987004</td>\n",
       "      <td>H</td>\n",
       "      <td>4497</td>\n",
       "      <td>514.0</td>\n",
       "      <td>150.0</td>\n",
       "      <td>mastercard</td>\n",
       "      <td>102.0</td>\n",
       "      <td>credit</td>\n",
       "      <td>420.0</td>\n",
       "      <td>...</td>\n",
       "      <td>NotFound</td>\n",
       "      <td>Android 7.0</td>\n",
       "      <td>samsung browser 6.2</td>\n",
       "      <td>32.0</td>\n",
       "      <td>2220x1080</td>\n",
       "      <td>match_status:2</td>\n",
       "      <td>T</td>\n",
       "      <td>F</td>\n",
       "      <td>T</td>\n",
       "      <td>T</td>\n",
       "    </tr>\n",
       "  </tbody>\n",
       "</table>\n",
       "<p>5 rows × 43 columns</p>\n",
       "</div>"
      ],
      "text/plain": [
       "   isFraud  TransactionID ProductCD  card1  card2  card3       card4  card5  \\\n",
       "0        0        2987000         W  13926    NaN  150.0    discover  142.0   \n",
       "1        0        2987001         W   2755  404.0  150.0  mastercard  102.0   \n",
       "2        0        2987002         W   4663  490.0  150.0        visa  166.0   \n",
       "3        0        2987003         W  18132  567.0  150.0  mastercard  117.0   \n",
       "4        0        2987004         H   4497  514.0  150.0  mastercard  102.0   \n",
       "\n",
       "    card6  addr1  ...     id_29        id_30                id_31 id_32  \\\n",
       "0  credit  315.0  ...       NaN          NaN                  NaN   NaN   \n",
       "1  credit  325.0  ...       NaN          NaN                  NaN   NaN   \n",
       "2   debit  330.0  ...       NaN          NaN                  NaN   NaN   \n",
       "3   debit  476.0  ...       NaN          NaN                  NaN   NaN   \n",
       "4  credit  420.0  ...  NotFound  Android 7.0  samsung browser 6.2  32.0   \n",
       "\n",
       "       id_33           id_34 id_35  id_36  id_37 id_38  \n",
       "0        NaN             NaN   NaN    NaN    NaN   NaN  \n",
       "1        NaN             NaN   NaN    NaN    NaN   NaN  \n",
       "2        NaN             NaN   NaN    NaN    NaN   NaN  \n",
       "3        NaN             NaN   NaN    NaN    NaN   NaN  \n",
       "4  2220x1080  match_status:2     T      F      T     T  \n",
       "\n",
       "[5 rows x 43 columns]"
      ]
     },
     "execution_count": 131,
     "metadata": {},
     "output_type": "execute_result"
    }
   ],
   "source": [
    "train_data = pd.DataFrame(train_transaction[['isFraud', 'TransactionID', 'ProductCD', 'card1', 'card2', 'card3', 'card4', 'card5',\n",
    "                                            'card6', 'addr1', 'addr2', 'M4', \n",
    "                                            'P_emaildomain', 'R_emaildomain']])\n",
    "train_data = pd.merge(train_data, pd.DataFrame(train_identity[['TransactionID', 'DeviceType', 'DeviceInfo', 'id_12',\n",
    "                                                              'id_13', 'id_14', 'id_15', 'id_16', 'id_17', 'id_18', \n",
    "                                                              'id_19', 'id_20', 'id_21', 'id_22', 'id_23', 'id_24', \n",
    "                                                              'id_25', 'id_26', 'id_27', 'id_28', 'id_29', 'id_30',\n",
    "                                                              'id_31', 'id_32', 'id_33', 'id_34', 'id_35', 'id_36',\n",
    "                                                              'id_37', 'id_38']]),\n",
    "                      on='TransactionID', how='outer')\n",
    "train_data.head()"
   ]
  },
  {
   "cell_type": "code",
   "execution_count": 132,
   "metadata": {},
   "outputs": [
    {
     "name": "stdout",
     "output_type": "stream",
     "text": [
      "<class 'pandas.core.frame.DataFrame'>\n",
      "Int64Index: 590540 entries, 0 to 590539\n",
      "Data columns (total 43 columns):\n",
      "isFraud          590540 non-null int64\n",
      "TransactionID    590540 non-null int64\n",
      "ProductCD        590540 non-null object\n",
      "card1            590540 non-null int64\n",
      "card2            581607 non-null float64\n",
      "card3            588975 non-null float64\n",
      "card4            588963 non-null object\n",
      "card5            586281 non-null float64\n",
      "card6            588969 non-null object\n",
      "addr1            524834 non-null float64\n",
      "addr2            524834 non-null float64\n",
      "M4               309096 non-null object\n",
      "P_emaildomain    496084 non-null object\n",
      "R_emaildomain    137291 non-null object\n",
      "DeviceType       140810 non-null object\n",
      "DeviceInfo       118666 non-null object\n",
      "id_12            144233 non-null object\n",
      "id_13            127320 non-null float64\n",
      "id_14            80044 non-null float64\n",
      "id_15            140985 non-null object\n",
      "id_16            129340 non-null object\n",
      "id_17            139369 non-null float64\n",
      "id_18            45113 non-null float64\n",
      "id_19            139318 non-null float64\n",
      "id_20            139261 non-null float64\n",
      "id_21            5159 non-null float64\n",
      "id_22            5169 non-null float64\n",
      "id_23            5169 non-null object\n",
      "id_24            4747 non-null float64\n",
      "id_25            5132 non-null float64\n",
      "id_26            5163 non-null float64\n",
      "id_27            5169 non-null object\n",
      "id_28            140978 non-null object\n",
      "id_29            140978 non-null object\n",
      "id_30            77565 non-null object\n",
      "id_31            140282 non-null object\n",
      "id_32            77586 non-null float64\n",
      "id_33            73289 non-null object\n",
      "id_34            77805 non-null object\n",
      "id_35            140985 non-null object\n",
      "id_36            140985 non-null object\n",
      "id_37            140985 non-null object\n",
      "id_38            140985 non-null object\n",
      "dtypes: float64(17), int64(3), object(23)\n",
      "memory usage: 198.2+ MB\n"
     ]
    }
   ],
   "source": [
    "train_data.info()"
   ]
  },
  {
   "cell_type": "code",
   "execution_count": 7,
   "metadata": {},
   "outputs": [],
   "source": [
    "features = ['ProductCD', 'card1', 'card2', 'card3', 'card4', 'card5', 'card6', 'P_emaildomain', 'R_emaildomain', \n",
    "            'DeviceType', 'DeviceInfo', 'id_12', 'id_13', 'id_15', 'id_16', 'id_17',  'id_19', 'id_20', 'id_28',\n",
    "            'id_29', 'id_31', 'id_35', 'id_36', 'id_37', 'id_38']\n",
    "target = 'isFraud'"
   ]
  },
  {
   "cell_type": "code",
   "execution_count": 8,
   "metadata": {},
   "outputs": [],
   "source": [
    "new_train_data = train_data[features]\n",
    "new_train_data[target] = train_data[target]"
   ]
  },
  {
   "cell_type": "code",
   "execution_count": 9,
   "metadata": {},
   "outputs": [],
   "source": [
    "new_train_data['card4'] = new_train_data['card4'].fillna('unknown')\n",
    "new_train_data['card6'] = new_train_data['card6'].fillna('unknown')\n",
    "new_train_data['P_emaildomain'] = new_train_data['P_emaildomain'].fillna('unknown')\n",
    "new_train_data['R_emaildomain'] = new_train_data['R_emaildomain'].fillna('unknown')\n",
    "new_train_data['DeviceType'] = new_train_data['DeviceType'].fillna('unknown')\n",
    "new_train_data['DeviceInfo'] = new_train_data['DeviceInfo'].fillna('unknown')\n",
    "new_train_data['id_15'] = new_train_data['id_15'].fillna('unknown')\n",
    "new_train_data['id_16'] = new_train_data['id_16'].fillna('unknown')\n",
    "new_train_data['id_28'] = new_train_data['id_28'].fillna('unknown')\n",
    "new_train_data['id_29'] = new_train_data['id_29'].fillna('unknown')\n",
    "new_train_data['id_31'] = new_train_data['id_31'].fillna('unknown')\n",
    "new_train_data['id_35'] = new_train_data['id_35'].fillna('unknown')\n",
    "new_train_data['id_36'] = new_train_data['id_36'].fillna('unknown')\n",
    "new_train_data['id_37'] = new_train_data['id_37'].fillna('unknown')\n",
    "new_train_data['id_38'] = new_train_data['id_38'].fillna('unknown')"
   ]
  },
  {
   "cell_type": "code",
   "execution_count": 10,
   "metadata": {},
   "outputs": [],
   "source": [
    "new_train_data.dropna(inplace=True)"
   ]
  },
  {
   "cell_type": "code",
   "execution_count": 11,
   "metadata": {},
   "outputs": [],
   "source": [
    "new_train_data['ProductCD'] = new_train_data['ProductCD'].astype('category')\n",
    "new_train_data['card4'] = new_train_data['card4'].astype('category')\n",
    "new_train_data['card6'] = new_train_data['card6'].astype('category')\n",
    "new_train_data['P_emaildomain'] = new_train_data['P_emaildomain'].astype('category')\n",
    "new_train_data['R_emaildomain'] = new_train_data['R_emaildomain'].astype('category')\n",
    "new_train_data['DeviceType'] = new_train_data['DeviceType'].astype('category')\n",
    "new_train_data['DeviceInfo'] = new_train_data['DeviceInfo'].astype('category')\n",
    "new_train_data['id_12'] = new_train_data['id_12'].astype('category')\n",
    "new_train_data['id_15'] = new_train_data['id_15'].astype('category')\n",
    "new_train_data['id_16'] = new_train_data['id_16'].astype('category')\n",
    "new_train_data['id_28'] = new_train_data['id_28'].astype('category')\n",
    "new_train_data['id_29'] = new_train_data['id_29'].astype('category')\n",
    "new_train_data['id_31'] = new_train_data['id_31'].astype('category')\n",
    "new_train_data['id_35'] = new_train_data['id_35'].astype('category')\n",
    "new_train_data['id_36'] = new_train_data['id_36'].astype('category')\n",
    "new_train_data['id_37'] = new_train_data['id_37'].astype('category')\n",
    "new_train_data['id_38'] = new_train_data['id_38'].astype('category')"
   ]
  },
  {
   "cell_type": "code",
   "execution_count": 12,
   "metadata": {},
   "outputs": [],
   "source": [
    "cat_columns = new_train_data.select_dtypes(['category']).columns\n",
    "new_train_data[cat_columns] = new_train_data[cat_columns].apply(lambda x: x.cat.codes)"
   ]
  },
  {
   "cell_type": "code",
   "execution_count": 13,
   "metadata": {},
   "outputs": [
    {
     "name": "stdout",
     "output_type": "stream",
     "text": [
      "<class 'pandas.core.frame.DataFrame'>\n",
      "Int64Index: 120927 entries, 1 to 144232\n",
      "Data columns (total 26 columns):\n",
      "ProductCD        120927 non-null int8\n",
      "card1            120927 non-null int64\n",
      "card2            120927 non-null float64\n",
      "card3            120927 non-null float64\n",
      "card4            120927 non-null int8\n",
      "card5            120927 non-null float64\n",
      "card6            120927 non-null int8\n",
      "P_emaildomain    120927 non-null int8\n",
      "R_emaildomain    120927 non-null int8\n",
      "DeviceType       120927 non-null int8\n",
      "DeviceInfo       120927 non-null int16\n",
      "id_12            120927 non-null int8\n",
      "id_13            120927 non-null float64\n",
      "id_15            120927 non-null int8\n",
      "id_16            120927 non-null int8\n",
      "id_17            120927 non-null float64\n",
      "id_19            120927 non-null float64\n",
      "id_20            120927 non-null float64\n",
      "id_28            120927 non-null int8\n",
      "id_29            120927 non-null int8\n",
      "id_31            120927 non-null int16\n",
      "id_35            120927 non-null int8\n",
      "id_36            120927 non-null int8\n",
      "id_37            120927 non-null int8\n",
      "id_38            120927 non-null int8\n",
      "isFraud          120927 non-null int64\n",
      "dtypes: float64(7), int16(2), int64(2), int8(15)\n",
      "memory usage: 11.4 MB\n"
     ]
    }
   ],
   "source": [
    "new_train_data.info()"
   ]
  },
  {
   "cell_type": "code",
   "execution_count": 16,
   "metadata": {},
   "outputs": [],
   "source": [
    "from sklearn.ensemble import RandomForestClassifier\n",
    "from sklearn.metrics import r2_score\n",
    "from sklearn.model_selection import train_test_split, GridSearchCV"
   ]
  },
  {
   "cell_type": "code",
   "execution_count": 17,
   "metadata": {},
   "outputs": [],
   "source": [
    "X_train, X_valid, y_train, y_valid = train_test_split(new_train_data[features], \n",
    "                                                      new_train_data[target], \n",
    "                                                      random_state=42)"
   ]
  },
  {
   "cell_type": "code",
   "execution_count": 29,
   "metadata": {},
   "outputs": [],
   "source": [
    "parameters = [{'n_estimators': [200, 250],\n",
    "               'max_features': [X_train.shape[1]],\n",
    "               'max_depth': [15]}]"
   ]
  },
  {
   "cell_type": "code",
   "execution_count": 30,
   "metadata": {},
   "outputs": [],
   "source": [
    "classifier = GridSearchCV(estimator=RandomForestClassifier(random_state=42),\n",
    "                   param_grid=parameters,\n",
    "                   scoring='accuracy',\n",
    "                   cv=7)"
   ]
  },
  {
   "cell_type": "code",
   "execution_count": 31,
   "metadata": {},
   "outputs": [
    {
     "name": "stdout",
     "output_type": "stream",
     "text": [
      "CPU times: user 12min 42s, sys: 80.9 ms, total: 12min 42s\n",
      "Wall time: 12min 44s\n"
     ]
    },
    {
     "data": {
      "text/plain": [
       "GridSearchCV(cv=7, error_score='raise-deprecating',\n",
       "       estimator=RandomForestClassifier(bootstrap=True, class_weight=None, criterion='gini',\n",
       "            max_depth=None, max_features='auto', max_leaf_nodes=None,\n",
       "            min_impurity_decrease=0.0, min_impurity_split=None,\n",
       "            min_samples_leaf=1, min_samples_split=2,\n",
       "            min_weight_fraction_leaf=0.0, n_estimators='warn', n_jobs=None,\n",
       "            oob_score=False, random_state=42, verbose=0, warm_start=False),\n",
       "       fit_params=None, iid='warn', n_jobs=None,\n",
       "       param_grid=[{'n_estimators': [200, 250], 'max_features': [25], 'max_depth': [15]}],\n",
       "       pre_dispatch='2*n_jobs', refit=True, return_train_score='warn',\n",
       "       scoring='accuracy', verbose=0)"
      ]
     },
     "execution_count": 31,
     "metadata": {},
     "output_type": "execute_result"
    }
   ],
   "source": [
    "%%time\n",
    "classifier.fit(X_train, y_train)"
   ]
  },
  {
   "cell_type": "code",
   "execution_count": 32,
   "metadata": {},
   "outputs": [
    {
     "data": {
      "text/plain": [
       "(0.9632063509565025, 0.9448928287906854)"
      ]
     },
     "execution_count": 32,
     "metadata": {},
     "output_type": "execute_result"
    }
   ],
   "source": [
    "classifier.score(X_train, y_train), classifier.score(X_valid, y_valid)"
   ]
  },
  {
   "cell_type": "code",
   "execution_count": 33,
   "metadata": {},
   "outputs": [
    {
     "data": {
      "text/plain": [
       "{'max_depth': 15, 'max_features': 25, 'n_estimators': 250}"
      ]
     },
     "execution_count": 33,
     "metadata": {},
     "output_type": "execute_result"
    }
   ],
   "source": [
    "classifier.best_params_"
   ]
  },
  {
   "cell_type": "code",
   "execution_count": 37,
   "metadata": {},
   "outputs": [],
   "source": [
    "## Добавить дату (день вечер ночь), объединить браузеры, устройства (модели и типы), \n",
    "## операционные системы (убрать версии)\n",
    "## Посмотреть другие фичи\n",
    "## убрать фичи, в которых меньше половины данных."
   ]
  },
  {
   "cell_type": "code",
   "execution_count": 44,
   "metadata": {},
   "outputs": [],
   "source": [
    "test_identity = pd.read_csv(\"test_identity.csv\")\n",
    "test_transaction = pd.read_csv('test_transaction.csv')"
   ]
  },
  {
   "cell_type": "code",
   "execution_count": 68,
   "metadata": {},
   "outputs": [],
   "source": [
    "test_data = pd.DataFrame(test_transaction[['TransactionID', 'ProductCD', 'card1', 'card2', 'card3', 'card4', 'card5',\n",
    "                                            'card6', 'addr1', 'addr2', 'M4', \n",
    "                                            'P_emaildomain', 'R_emaildomain']])\n",
    "test_data = pd.merge(test_data, pd.DataFrame(test_identity[['TransactionID', 'DeviceType', 'DeviceInfo', 'id_12',\n",
    "                                                              'id_13', 'id_14', 'id_15', 'id_16', 'id_17', 'id_18', \n",
    "                                                              'id_19', 'id_20', 'id_21', 'id_22', 'id_23', 'id_24', \n",
    "                                                              'id_25', 'id_26', 'id_27', 'id_28', 'id_29', 'id_30',\n",
    "                                                              'id_31', 'id_32', 'id_33', 'id_34', 'id_35', 'id_36',\n",
    "                                                              'id_37', 'id_38']]),\n",
    "                      on='TransactionID', how='inner')"
   ]
  },
  {
   "cell_type": "code",
   "execution_count": 69,
   "metadata": {},
   "outputs": [
    {
     "name": "stdout",
     "output_type": "stream",
     "text": [
      "<class 'pandas.core.frame.DataFrame'>\n",
      "Int64Index: 141907 entries, 0 to 141906\n",
      "Data columns (total 42 columns):\n",
      "TransactionID    141907 non-null int64\n",
      "ProductCD        141907 non-null object\n",
      "card1            141907 non-null int64\n",
      "card2            139410 non-null float64\n",
      "card3            140832 non-null float64\n",
      "card4            140749 non-null object\n",
      "card5            139967 non-null float64\n",
      "card6            140827 non-null object\n",
      "addr1            78244 non-null float64\n",
      "addr2            78244 non-null float64\n",
      "M4               65627 non-null object\n",
      "P_emaildomain    130247 non-null object\n",
      "R_emaildomain    132110 non-null object\n",
      "DeviceType       136931 non-null object\n",
      "DeviceInfo       115057 non-null object\n",
      "id_12            141907 non-null object\n",
      "id_13            130286 non-null float64\n",
      "id_14            71357 non-null float64\n",
      "id_15            136977 non-null object\n",
      "id_16            125747 non-null object\n",
      "id_17            135966 non-null float64\n",
      "id_18            50875 non-null float64\n",
      "id_19            135906 non-null float64\n",
      "id_20            135633 non-null float64\n",
      "id_21            5059 non-null float64\n",
      "id_22            5062 non-null float64\n",
      "id_23            5062 non-null object\n",
      "id_24            4740 non-null float64\n",
      "id_25            5039 non-null float64\n",
      "id_26            5047 non-null float64\n",
      "id_27            5062 non-null object\n",
      "id_28            136778 non-null object\n",
      "id_29            136778 non-null object\n",
      "id_30            70659 non-null object\n",
      "id_31            136625 non-null object\n",
      "id_32            70671 non-null float64\n",
      "id_33            70671 non-null object\n",
      "id_34            72175 non-null object\n",
      "id_35            136977 non-null object\n",
      "id_36            136977 non-null object\n",
      "id_37            136977 non-null object\n",
      "id_38            136977 non-null object\n",
      "dtypes: float64(17), int64(2), object(23)\n",
      "memory usage: 46.6+ MB\n"
     ]
    }
   ],
   "source": [
    "test_data.info()"
   ]
  },
  {
   "cell_type": "code",
   "execution_count": 76,
   "metadata": {},
   "outputs": [],
   "source": [
    "n_test_data = test_data[features]\n",
    "n_test_data['TransactionID'] = test_data['TransactionID']"
   ]
  },
  {
   "cell_type": "code",
   "execution_count": 77,
   "metadata": {},
   "outputs": [],
   "source": [
    "n_test_data['card4'] = n_test_data['card4'].fillna('unknown')\n",
    "n_test_data['card6'] = n_test_data['card6'].fillna('unknown')\n",
    "n_test_data['P_emaildomain'] = n_test_data['P_emaildomain'].fillna('unknown')\n",
    "n_test_data['R_emaildomain'] = n_test_data['R_emaildomain'].fillna('unknown')\n",
    "n_test_data['DeviceType'] = n_test_data['DeviceType'].fillna('unknown')\n",
    "n_test_data['DeviceInfo'] = n_test_data['DeviceInfo'].fillna('unknown')\n",
    "n_test_data['id_15'] = n_test_data['id_15'].fillna('unknown')\n",
    "n_test_data['id_16'] = n_test_data['id_16'].fillna('unknown')\n",
    "n_test_data['id_28'] = n_test_data['id_28'].fillna('unknown')\n",
    "n_test_data['id_29'] = n_test_data['id_29'].fillna('unknown')\n",
    "n_test_data['id_31'] = n_test_data['id_31'].fillna('unknown')\n",
    "n_test_data['id_35'] = n_test_data['id_35'].fillna('unknown')\n",
    "n_test_data['id_36'] = n_test_data['id_36'].fillna('unknown')\n",
    "n_test_data['id_37'] = n_test_data['id_37'].fillna('unknown')\n",
    "n_test_data['id_38'] = n_test_data['id_38'].fillna('unknown')"
   ]
  },
  {
   "cell_type": "code",
   "execution_count": 78,
   "metadata": {},
   "outputs": [],
   "source": [
    "n_test_data = n_test_data.fillna(0)"
   ]
  },
  {
   "cell_type": "code",
   "execution_count": 79,
   "metadata": {},
   "outputs": [],
   "source": [
    "n_test_data['ProductCD'] = n_test_data['ProductCD'].astype('category')\n",
    "n_test_data['card4'] = n_test_data['card4'].astype('category')\n",
    "n_test_data['card6'] = n_test_data['card6'].astype('category')\n",
    "n_test_data['P_emaildomain'] = n_test_data['P_emaildomain'].astype('category')\n",
    "n_test_data['R_emaildomain'] = n_test_data['R_emaildomain'].astype('category')\n",
    "n_test_data['DeviceType'] = n_test_data['DeviceType'].astype('category')\n",
    "n_test_data['DeviceInfo'] = n_test_data['DeviceInfo'].astype('category')\n",
    "n_test_data['id_12'] = n_test_data['id_12'].astype('category')\n",
    "n_test_data['id_15'] = n_test_data['id_15'].astype('category')\n",
    "n_test_data['id_16'] = n_test_data['id_16'].astype('category')\n",
    "n_test_data['id_28'] = n_test_data['id_28'].astype('category')\n",
    "n_test_data['id_29'] = n_test_data['id_29'].astype('category')\n",
    "n_test_data['id_31'] = n_test_data['id_31'].astype('category')\n",
    "n_test_data['id_35'] = n_test_data['id_35'].astype('category')\n",
    "n_test_data['id_36'] = n_test_data['id_36'].astype('category')\n",
    "n_test_data['id_37'] = n_test_data['id_37'].astype('category')\n",
    "n_test_data['id_38'] = n_test_data['id_38'].astype('category')\n",
    "n_cat_columns = n_test_data.select_dtypes(['category']).columns\n",
    "n_test_data[n_cat_columns] = n_test_data[n_cat_columns].apply(lambda x: x.cat.codes)"
   ]
  },
  {
   "cell_type": "code",
   "execution_count": 80,
   "metadata": {},
   "outputs": [
    {
     "data": {
      "text/html": [
       "<div>\n",
       "<style scoped>\n",
       "    .dataframe tbody tr th:only-of-type {\n",
       "        vertical-align: middle;\n",
       "    }\n",
       "\n",
       "    .dataframe tbody tr th {\n",
       "        vertical-align: top;\n",
       "    }\n",
       "\n",
       "    .dataframe thead th {\n",
       "        text-align: right;\n",
       "    }\n",
       "</style>\n",
       "<table border=\"1\" class=\"dataframe\">\n",
       "  <thead>\n",
       "    <tr style=\"text-align: right;\">\n",
       "      <th></th>\n",
       "      <th>ProductCD</th>\n",
       "      <th>card1</th>\n",
       "      <th>card2</th>\n",
       "      <th>card3</th>\n",
       "      <th>card4</th>\n",
       "      <th>card5</th>\n",
       "      <th>card6</th>\n",
       "      <th>P_emaildomain</th>\n",
       "      <th>R_emaildomain</th>\n",
       "      <th>DeviceType</th>\n",
       "      <th>...</th>\n",
       "      <th>id_19</th>\n",
       "      <th>id_20</th>\n",
       "      <th>id_28</th>\n",
       "      <th>id_29</th>\n",
       "      <th>id_31</th>\n",
       "      <th>id_35</th>\n",
       "      <th>id_36</th>\n",
       "      <th>id_37</th>\n",
       "      <th>id_38</th>\n",
       "      <th>TransactionID</th>\n",
       "    </tr>\n",
       "  </thead>\n",
       "  <tbody>\n",
       "    <tr>\n",
       "      <th>0</th>\n",
       "      <td>0</td>\n",
       "      <td>15885</td>\n",
       "      <td>545.0</td>\n",
       "      <td>185.0</td>\n",
       "      <td>4</td>\n",
       "      <td>138.0</td>\n",
       "      <td>2</td>\n",
       "      <td>19</td>\n",
       "      <td>19</td>\n",
       "      <td>1</td>\n",
       "      <td>...</td>\n",
       "      <td>427.0</td>\n",
       "      <td>563.0</td>\n",
       "      <td>1</td>\n",
       "      <td>1</td>\n",
       "      <td>45</td>\n",
       "      <td>0</td>\n",
       "      <td>0</td>\n",
       "      <td>1</td>\n",
       "      <td>0</td>\n",
       "      <td>3663586</td>\n",
       "    </tr>\n",
       "    <tr>\n",
       "      <th>1</th>\n",
       "      <td>3</td>\n",
       "      <td>2453</td>\n",
       "      <td>399.0</td>\n",
       "      <td>150.0</td>\n",
       "      <td>0</td>\n",
       "      <td>137.0</td>\n",
       "      <td>1</td>\n",
       "      <td>49</td>\n",
       "      <td>16</td>\n",
       "      <td>1</td>\n",
       "      <td>...</td>\n",
       "      <td>542.0</td>\n",
       "      <td>368.0</td>\n",
       "      <td>0</td>\n",
       "      <td>0</td>\n",
       "      <td>45</td>\n",
       "      <td>1</td>\n",
       "      <td>0</td>\n",
       "      <td>1</td>\n",
       "      <td>1</td>\n",
       "      <td>3663588</td>\n",
       "    </tr>\n",
       "    <tr>\n",
       "      <th>2</th>\n",
       "      <td>0</td>\n",
       "      <td>15885</td>\n",
       "      <td>545.0</td>\n",
       "      <td>185.0</td>\n",
       "      <td>4</td>\n",
       "      <td>138.0</td>\n",
       "      <td>2</td>\n",
       "      <td>1</td>\n",
       "      <td>1</td>\n",
       "      <td>0</td>\n",
       "      <td>...</td>\n",
       "      <td>271.0</td>\n",
       "      <td>507.0</td>\n",
       "      <td>1</td>\n",
       "      <td>1</td>\n",
       "      <td>100</td>\n",
       "      <td>0</td>\n",
       "      <td>1</td>\n",
       "      <td>1</td>\n",
       "      <td>0</td>\n",
       "      <td>3663597</td>\n",
       "    </tr>\n",
       "    <tr>\n",
       "      <th>3</th>\n",
       "      <td>0</td>\n",
       "      <td>15885</td>\n",
       "      <td>545.0</td>\n",
       "      <td>185.0</td>\n",
       "      <td>4</td>\n",
       "      <td>138.0</td>\n",
       "      <td>2</td>\n",
       "      <td>19</td>\n",
       "      <td>19</td>\n",
       "      <td>1</td>\n",
       "      <td>...</td>\n",
       "      <td>427.0</td>\n",
       "      <td>563.0</td>\n",
       "      <td>0</td>\n",
       "      <td>0</td>\n",
       "      <td>45</td>\n",
       "      <td>0</td>\n",
       "      <td>0</td>\n",
       "      <td>1</td>\n",
       "      <td>0</td>\n",
       "      <td>3663601</td>\n",
       "    </tr>\n",
       "    <tr>\n",
       "      <th>4</th>\n",
       "      <td>0</td>\n",
       "      <td>9633</td>\n",
       "      <td>130.0</td>\n",
       "      <td>185.0</td>\n",
       "      <td>4</td>\n",
       "      <td>138.0</td>\n",
       "      <td>2</td>\n",
       "      <td>19</td>\n",
       "      <td>19</td>\n",
       "      <td>1</td>\n",
       "      <td>...</td>\n",
       "      <td>567.0</td>\n",
       "      <td>507.0</td>\n",
       "      <td>1</td>\n",
       "      <td>1</td>\n",
       "      <td>45</td>\n",
       "      <td>0</td>\n",
       "      <td>0</td>\n",
       "      <td>1</td>\n",
       "      <td>0</td>\n",
       "      <td>3663602</td>\n",
       "    </tr>\n",
       "  </tbody>\n",
       "</table>\n",
       "<p>5 rows × 26 columns</p>\n",
       "</div>"
      ],
      "text/plain": [
       "   ProductCD  card1  card2  card3  card4  card5  card6  P_emaildomain  \\\n",
       "0          0  15885  545.0  185.0      4  138.0      2             19   \n",
       "1          3   2453  399.0  150.0      0  137.0      1             49   \n",
       "2          0  15885  545.0  185.0      4  138.0      2              1   \n",
       "3          0  15885  545.0  185.0      4  138.0      2             19   \n",
       "4          0   9633  130.0  185.0      4  138.0      2             19   \n",
       "\n",
       "   R_emaildomain  DeviceType  ...  id_19  id_20  id_28  id_29  id_31  id_35  \\\n",
       "0             19           1  ...  427.0  563.0      1      1     45      0   \n",
       "1             16           1  ...  542.0  368.0      0      0     45      1   \n",
       "2              1           0  ...  271.0  507.0      1      1    100      0   \n",
       "3             19           1  ...  427.0  563.0      0      0     45      0   \n",
       "4             19           1  ...  567.0  507.0      1      1     45      0   \n",
       "\n",
       "   id_36  id_37  id_38  TransactionID  \n",
       "0      0      1      0        3663586  \n",
       "1      0      1      1        3663588  \n",
       "2      1      1      0        3663597  \n",
       "3      0      1      0        3663601  \n",
       "4      0      1      0        3663602  \n",
       "\n",
       "[5 rows x 26 columns]"
      ]
     },
     "execution_count": 80,
     "metadata": {},
     "output_type": "execute_result"
    }
   ],
   "source": [
    "n_test_data.head()"
   ]
  },
  {
   "cell_type": "code",
   "execution_count": 81,
   "metadata": {},
   "outputs": [
    {
     "name": "stdout",
     "output_type": "stream",
     "text": [
      "<class 'pandas.core.frame.DataFrame'>\n",
      "Int64Index: 141907 entries, 0 to 141906\n",
      "Data columns (total 26 columns):\n",
      "ProductCD        141907 non-null int8\n",
      "card1            141907 non-null int64\n",
      "card2            141907 non-null float64\n",
      "card3            141907 non-null float64\n",
      "card4            141907 non-null int8\n",
      "card5            141907 non-null float64\n",
      "card6            141907 non-null int8\n",
      "P_emaildomain    141907 non-null int8\n",
      "R_emaildomain    141907 non-null int8\n",
      "DeviceType       141907 non-null int8\n",
      "DeviceInfo       141907 non-null int16\n",
      "id_12            141907 non-null int8\n",
      "id_13            141907 non-null float64\n",
      "id_15            141907 non-null int8\n",
      "id_16            141907 non-null int8\n",
      "id_17            141907 non-null float64\n",
      "id_19            141907 non-null float64\n",
      "id_20            141907 non-null float64\n",
      "id_28            141907 non-null int8\n",
      "id_29            141907 non-null int8\n",
      "id_31            141907 non-null int16\n",
      "id_35            141907 non-null int8\n",
      "id_36            141907 non-null int8\n",
      "id_37            141907 non-null int8\n",
      "id_38            141907 non-null int8\n",
      "TransactionID    141907 non-null int64\n",
      "dtypes: float64(7), int16(2), int64(2), int8(15)\n",
      "memory usage: 13.4 MB\n"
     ]
    }
   ],
   "source": [
    "n_test_data.info()"
   ]
  },
  {
   "cell_type": "code",
   "execution_count": 82,
   "metadata": {},
   "outputs": [],
   "source": [
    "y_test_pred = classifier.predict(n_test_data[features])"
   ]
  },
  {
   "cell_type": "code",
   "execution_count": 123,
   "metadata": {},
   "outputs": [],
   "source": [
    "answer['isFraud'] = y_test_pred\n",
    "answer.index = n_test_data['TransactionID']"
   ]
  },
  {
   "cell_type": "code",
   "execution_count": 124,
   "metadata": {},
   "outputs": [
    {
     "data": {
      "text/plain": [
       "0    137869\n",
       "1      4038\n",
       "Name: isFraud, dtype: int64"
      ]
     },
     "execution_count": 124,
     "metadata": {},
     "output_type": "execute_result"
    }
   ],
   "source": [
    "answer['isFraud'].value_counts()"
   ]
  },
  {
   "cell_type": "code",
   "execution_count": 125,
   "metadata": {},
   "outputs": [
    {
     "data": {
      "text/html": [
       "<div>\n",
       "<style scoped>\n",
       "    .dataframe tbody tr th:only-of-type {\n",
       "        vertical-align: middle;\n",
       "    }\n",
       "\n",
       "    .dataframe tbody tr th {\n",
       "        vertical-align: top;\n",
       "    }\n",
       "\n",
       "    .dataframe thead th {\n",
       "        text-align: right;\n",
       "    }\n",
       "</style>\n",
       "<table border=\"1\" class=\"dataframe\">\n",
       "  <thead>\n",
       "    <tr style=\"text-align: right;\">\n",
       "      <th></th>\n",
       "      <th>isFraud</th>\n",
       "    </tr>\n",
       "    <tr>\n",
       "      <th>TransactionID</th>\n",
       "      <th></th>\n",
       "    </tr>\n",
       "  </thead>\n",
       "  <tbody>\n",
       "    <tr>\n",
       "      <th>3663586</th>\n",
       "      <td>0</td>\n",
       "    </tr>\n",
       "    <tr>\n",
       "      <th>3663588</th>\n",
       "      <td>0</td>\n",
       "    </tr>\n",
       "    <tr>\n",
       "      <th>3663597</th>\n",
       "      <td>0</td>\n",
       "    </tr>\n",
       "    <tr>\n",
       "      <th>3663601</th>\n",
       "      <td>0</td>\n",
       "    </tr>\n",
       "    <tr>\n",
       "      <th>3663602</th>\n",
       "      <td>0</td>\n",
       "    </tr>\n",
       "  </tbody>\n",
       "</table>\n",
       "</div>"
      ],
      "text/plain": [
       "               isFraud\n",
       "TransactionID         \n",
       "3663586              0\n",
       "3663588              0\n",
       "3663597              0\n",
       "3663601              0\n",
       "3663602              0"
      ]
     },
     "execution_count": 125,
     "metadata": {},
     "output_type": "execute_result"
    }
   ],
   "source": [
    "answer.head()"
   ]
  },
  {
   "cell_type": "code",
   "execution_count": null,
   "metadata": {},
   "outputs": [],
   "source": []
  },
  {
   "cell_type": "code",
   "execution_count": 126,
   "metadata": {},
   "outputs": [],
   "source": [
    "answer.to_csv('answer.csv')"
   ]
  },
  {
   "cell_type": "code",
   "execution_count": null,
   "metadata": {},
   "outputs": [],
   "source": []
  },
  {
   "cell_type": "code",
   "execution_count": null,
   "metadata": {},
   "outputs": [],
   "source": []
  },
  {
   "cell_type": "code",
   "execution_count": null,
   "metadata": {},
   "outputs": [],
   "source": []
  },
  {
   "cell_type": "code",
   "execution_count": null,
   "metadata": {},
   "outputs": [],
   "source": []
  },
  {
   "cell_type": "code",
   "execution_count": null,
   "metadata": {},
   "outputs": [],
   "source": []
  }
 ],
 "metadata": {
  "kernelspec": {
   "display_name": "Python 3",
   "language": "python",
   "name": "python3"
  },
  "language_info": {
   "codemirror_mode": {
    "name": "ipython",
    "version": 3
   },
   "file_extension": ".py",
   "mimetype": "text/x-python",
   "name": "python",
   "nbconvert_exporter": "python",
   "pygments_lexer": "ipython3",
   "version": "3.7.3"
  }
 },
 "nbformat": 4,
 "nbformat_minor": 2
}
